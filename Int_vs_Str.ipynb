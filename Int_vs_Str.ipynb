{
  "nbformat": 4,
  "nbformat_minor": 0,
  "metadata": {
    "colab": {
      "name": "Int_vs_Str.ipynb",
      "provenance": [],
      "collapsed_sections": []
    },
    "kernelspec": {
      "name": "python3",
      "display_name": "Python 3"
    }
  },
  "cells": [
    {
      "cell_type": "code",
      "metadata": {
        "colab": {
          "base_uri": "https://localhost:8080/"
        },
        "id": "ojlSyQC34Ek_",
        "outputId": "4d84441c-1251-4ff2-f87c-8b472939c80d"
      },
      "source": [
        "import pandas as pd\r\n",
        "df = pd.DataFrame({'User': [1,2,3,4],'Pr': [0,11,21,12], 'Lf': [11,12,13,14],  'Rf': [21,22,23,24]})\r\n",
        "#print(df)\r\n",
        "pr = df.Pr.to_list()\r\n",
        "\r\n",
        "for i in pr:\r\n",
        "    df1 = df.loc[df['Pr'] == i]\r\n",
        "    print(df1.to_string(index=False))\r\n",
        "    x = df1.Lf.to_string(index=False)\r\n",
        "    tt = int(x) # <-------------------------- int vs str problem\r\n",
        "    print(tt)\r\n",
        "    print(df.Pr == tt)\r\n",
        "   \r\n",
        "   \r\n",
        "    \r\n",
        "    \r\n"
      ],
      "execution_count": 1,
      "outputs": [
        {
          "output_type": "stream",
          "text": [
            " User  Pr  Lf  Rf\n",
            "    1   0  11  21\n",
            "11\n",
            "0    False\n",
            "1     True\n",
            "2    False\n",
            "3    False\n",
            "Name: Pr, dtype: bool\n",
            " User  Pr  Lf  Rf\n",
            "    2  11  12  22\n",
            "12\n",
            "0    False\n",
            "1    False\n",
            "2    False\n",
            "3     True\n",
            "Name: Pr, dtype: bool\n",
            " User  Pr  Lf  Rf\n",
            "    3  21  13  23\n",
            "13\n",
            "0    False\n",
            "1    False\n",
            "2    False\n",
            "3    False\n",
            "Name: Pr, dtype: bool\n",
            " User  Pr  Lf  Rf\n",
            "    4  12  14  24\n",
            "14\n",
            "0    False\n",
            "1    False\n",
            "2    False\n",
            "3    False\n",
            "Name: Pr, dtype: bool\n"
          ],
          "name": "stdout"
        }
      ]
    },
    {
      "cell_type": "code",
      "metadata": {
        "colab": {
          "base_uri": "https://localhost:8080/"
        },
        "id": "QL6q-KZN4HF4",
        "outputId": "f70b6d98-630c-482a-8e6e-a418f4f38cfc"
      },
      "source": [
        "import pandas as pd\r\n",
        "df = pd.DataFrame({'User': [1,2,3,4],'Pr':['0','11','21','12'],'Lf':['11','12','13','14'], 'Rf': ['21','22','23','24']})\r\n",
        "#print(df)\r\n",
        "pr = df.Pr.to_list()\r\n",
        "\r\n",
        "for i in pr:\r\n",
        "    df1 = df.loc[df['Pr'] == i]\r\n",
        "    print(df1.to_string(index=False))\r\n",
        "    x = df1.Lf.to_string(index=False)\r\n",
        "    tt = str(x) # <-------------------------- int vs str problem Don't Work properly\r\n",
        "\r\n",
        "    print(tt)\r\n",
        "    print(df.Pr == tt)\r\n",
        "    #print(df.Pr == x) # <--- This line also give error output\r\n",
        "   \r\n",
        "    \r\n",
        "    \r\n"
      ],
      "execution_count": 2,
      "outputs": [
        {
          "output_type": "stream",
          "text": [
            " User Pr  Lf  Rf\n",
            "    1  0  11  21\n",
            " 11\n",
            "0    False\n",
            "1    False\n",
            "2    False\n",
            "3    False\n",
            "Name: Pr, dtype: bool\n",
            " User  Pr  Lf  Rf\n",
            "    2  11  12  22\n",
            " 12\n",
            "0    False\n",
            "1    False\n",
            "2    False\n",
            "3    False\n",
            "Name: Pr, dtype: bool\n",
            " User  Pr  Lf  Rf\n",
            "    3  21  13  23\n",
            " 13\n",
            "0    False\n",
            "1    False\n",
            "2    False\n",
            "3    False\n",
            "Name: Pr, dtype: bool\n",
            " User  Pr  Lf  Rf\n",
            "    4  12  14  24\n",
            " 14\n",
            "0    False\n",
            "1    False\n",
            "2    False\n",
            "3    False\n",
            "Name: Pr, dtype: bool\n"
          ],
          "name": "stdout"
        }
      ]
    }
  ]
}